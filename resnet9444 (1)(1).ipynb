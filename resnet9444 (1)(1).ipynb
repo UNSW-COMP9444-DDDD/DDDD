{
 "cells": [
  {
   "cell_type": "code",
   "execution_count": 3,
   "id": "73643407",
   "metadata": {
    "ExecuteTime": {
     "end_time": "2023-07-17T17:20:54.752575800Z",
     "start_time": "2023-07-17T17:20:54.740615700Z"
    }
   },
   "outputs": [],
   "source": [
    "# Change to your dataset directory\n",
    "import os\n",
    "os.chdir('C:/Users/11421/Desktop/9444/input/breast-histopathology-images')"
   ]
  },
  {
   "cell_type": "code",
   "execution_count": 4,
   "id": "df357468",
   "metadata": {
    "ExecuteTime": {
     "end_time": "2023-07-17T17:20:54.777492300Z",
     "start_time": "2023-07-17T17:20:54.746595900Z"
    }
   },
   "outputs": [],
   "source": [
    "\n",
    "import torch\n",
    "# print(torch.cuda.is_available())\n",
    "import torchvision.transforms as transforms\n",
    "import torchvision.models as models\n",
    "import torch.nn as nn\n",
    "from torch.utils.data import DataLoader, Dataset\n",
    "import cv2\n",
    "import pandas as pd\n",
    "from sklearn.model_selection import train_test_split\n",
    "from glob import glob\n",
    "import fnmatch"
   ]
  },
  {
   "cell_type": "code",
   "execution_count": 5,
   "id": "176788ab",
   "metadata": {
    "ExecuteTime": {
     "end_time": "2023-07-17T17:20:56.837602400Z",
     "start_time": "2023-07-17T17:20:54.760549400Z"
    }
   },
   "outputs": [],
   "source": [
    "# Collect paths to all images\n",
    "imagePatches = glob('IDC_regular_ps50_idx5/**/*.png', recursive=True)"
   ]
  },
  {
   "cell_type": "code",
   "execution_count": 6,
   "id": "309cc7cf",
   "metadata": {
    "ExecuteTime": {
     "end_time": "2023-07-17T17:20:57.187472700Z",
     "start_time": "2023-07-17T17:20:56.885444100Z"
    }
   },
   "outputs": [],
   "source": [
    "# Separate image paths based on class\n",
    "patternZero = '*class0.png'\n",
    "patternOne = '*class1.png'\n",
    "classZero = fnmatch.filter(imagePatches, patternZero)\n",
    "classOne = fnmatch.filter(imagePatches, patternOne)"
   ]
  },
  {
   "cell_type": "code",
   "execution_count": 7,
   "id": "e169806a",
   "metadata": {
    "ExecuteTime": {
     "end_time": "2023-07-17T17:27:34.004261Z",
     "start_time": "2023-07-17T17:20:57.204413Z"
    }
   },
   "outputs": [
    {
     "name": "stdout",
     "output_type": "stream",
     "text": [
      "Progress: 5.00%\n",
      "Progress: 10.00%\n",
      "Progress: 15.00%\n",
      "Progress: 20.00%\n",
      "Progress: 25.00%\n",
      "Progress: 30.00%\n",
      "Progress: 35.00%\n",
      "Progress: 40.00%\n",
      "Progress: 45.00%\n",
      "Progress: 50.00%\n",
      "Progress: 55.00%\n",
      "Progress: 60.00%\n",
      "Progress: 65.00%\n",
      "Progress: 70.00%\n",
      "Progress: 75.00%\n",
      "Progress: 80.00%\n",
      "Progress: 85.00%\n",
      "Progress: 90.00%\n",
      "Progress: 95.00%\n"
     ]
    }
   ],
   "source": [
    "total_num = 277524\n",
    "count = 0\n",
    "y = []\n",
    "progress_increment = total_num * 0.05  # 5% of total\n",
    "next_progress = progress_increment\n",
    "\n",
    "for img in imagePatches:\n",
    "    if img in classZero:\n",
    "        y.append(0)\n",
    "    elif img in classOne:\n",
    "        y.append(1)\n",
    "\n",
    "    count += 1\n",
    "\n",
    "    if count >= next_progress:\n",
    "        print(f'Progress: {count/total_num*100:.2f}%')  # Prints the progress as a percentage\n",
    "        next_progress += progress_increment\n"
   ]
  },
  {
   "cell_type": "code",
   "execution_count": 8,
   "id": "2657bc49",
   "metadata": {
    "ExecuteTime": {
     "end_time": "2023-07-17T17:27:34.097069300Z",
     "start_time": "2023-07-17T17:27:34.005257800Z"
    }
   },
   "outputs": [
    {
     "name": "stdout",
     "output_type": "stream",
     "text": [
      "                                                   images  labels\n",
      "0       IDC_regular_ps50_idx5\\10253\\0\\10253_idx5_x1001...       0\n",
      "1       IDC_regular_ps50_idx5\\10253\\0\\10253_idx5_x1001...       0\n",
      "2       IDC_regular_ps50_idx5\\10253\\0\\10253_idx5_x1001...       0\n",
      "3       IDC_regular_ps50_idx5\\10253\\0\\10253_idx5_x1001...       0\n",
      "4       IDC_regular_ps50_idx5\\10253\\0\\10253_idx5_x1001...       0\n",
      "...                                                   ...     ...\n",
      "277519  IDC_regular_ps50_idx5\\9383\\1\\9383_idx5_x2051_y...       1\n",
      "277520  IDC_regular_ps50_idx5\\9383\\1\\9383_idx5_x2051_y...       1\n",
      "277521  IDC_regular_ps50_idx5\\9383\\1\\9383_idx5_x2101_y...       1\n",
      "277522  IDC_regular_ps50_idx5\\9383\\1\\9383_idx5_x2101_y...       1\n",
      "277523  IDC_regular_ps50_idx5\\9383\\1\\9383_idx5_x2101_y...       1\n",
      "\n",
      "[277524 rows x 2 columns]\n"
     ]
    }
   ],
   "source": [
    "# Create dataframe\n",
    "images_df = pd.DataFrame()\n",
    "images_df[\"images\"] = imagePatches\n",
    "images_df[\"labels\"] = y\n",
    "\n",
    "print(images_df)"
   ]
  },
  {
   "cell_type": "code",
   "execution_count": 9,
   "id": "9dfa74a6",
   "metadata": {
    "ExecuteTime": {
     "end_time": "2023-07-17T17:27:34.161852400Z",
     "start_time": "2023-07-17T17:27:34.099062700Z"
    }
   },
   "outputs": [],
   "source": [
    "# Split data into training and validation sets\n",
    "train, val = train_test_split(images_df, stratify=images_df.labels, test_size=0.2)"
   ]
  },
  {
   "cell_type": "code",
   "execution_count": 10,
   "id": "339a7df0",
   "metadata": {
    "ExecuteTime": {
     "end_time": "2023-07-17T17:27:34.177874500Z",
     "start_time": "2023-07-17T17:27:34.164842200Z"
    }
   },
   "outputs": [],
   "source": [
    "# Dataset class\n",
    "class MyDataset(Dataset):\n",
    "    def __init__(self, df_data,transform=None):\n",
    "        super().__init__()\n",
    "        self.df = df_data.values\n",
    "        self.transform = transform\n",
    "\n",
    "    def __len__(self):\n",
    "        return len(self.df)\n",
    "    \n",
    "    def __getitem__(self, index):\n",
    "        img_path,label = self.df[index]\n",
    "        image = cv2.imread(img_path)\n",
    "        image = cv2.resize(image, (224,224))  # Resize images to 224x224\n",
    "        if self.transform is not None:\n",
    "            image = self.transform(image)\n",
    "        return image, label"
   ]
  },
  {
   "cell_type": "code",
   "execution_count": 11,
   "id": "fa6c9edc",
   "metadata": {
    "ExecuteTime": {
     "end_time": "2023-07-17T17:27:34.197871100Z",
     "start_time": "2023-07-17T17:27:34.178872100Z"
    }
   },
   "outputs": [],
   "source": [
    "# Model parameters\n",
    "num_epochs = 10\n",
    "num_classes = 2\n",
    "batch_size = 64\n",
    "learning_rate = 0.002"
   ]
  },
  {
   "cell_type": "code",
   "execution_count": 12,
   "id": "9cffa1b8",
   "metadata": {
    "ExecuteTime": {
     "end_time": "2023-07-17T17:27:34.209830500Z",
     "start_time": "2023-07-17T17:27:34.197871100Z"
    }
   },
   "outputs": [],
   "source": [
    "# Define transforms\n",
    "trans_train = transforms.Compose([transforms.ToPILImage(),\n",
    "                                  transforms.RandomHorizontalFlip(), \n",
    "                                  transforms.RandomVerticalFlip(),\n",
    "                                  transforms.RandomRotation(20), \n",
    "                                  transforms.ToTensor(),\n",
    "                                  transforms.Normalize(mean=[0.5, 0.5, 0.5],std=[0.5, 0.5, 0.5])])\n",
    "\n",
    "trans_valid = transforms.Compose([transforms.ToPILImage(),\n",
    "                                  transforms.ToTensor(),\n",
    "                                  transforms.Normalize(mean=[0.5, 0.5, 0.5],std=[0.5, 0.5, 0.5])])\n"
   ]
  },
  {
   "cell_type": "code",
   "execution_count": 13,
   "id": "b4b9ad0a",
   "metadata": {
    "ExecuteTime": {
     "end_time": "2023-07-17T17:27:34.240800500Z",
     "start_time": "2023-07-17T17:27:34.210827Z"
    }
   },
   "outputs": [],
   "source": [
    "# Create datasets and dataloaders\n",
    "dataset_train = MyDataset(df_data=train, transform=trans_train)\n",
    "dataset_valid = MyDataset(df_data=val,transform=trans_valid)\n",
    "\n",
    "loader_train = DataLoader(dataset = dataset_train, batch_size=batch_size, shuffle=True, num_workers=0)\n",
    "loader_valid = DataLoader(dataset = dataset_valid, batch_size=batch_size//2, shuffle=False, num_workers=0)"
   ]
  },
  {
   "cell_type": "code",
   "execution_count": 14,
   "id": "5fd4ff29",
   "metadata": {
    "ExecuteTime": {
     "end_time": "2023-07-17T17:27:34.559432200Z",
     "start_time": "2023-07-17T17:27:34.242794Z"
    }
   },
   "outputs": [
    {
     "name": "stderr",
     "output_type": "stream",
     "text": [
      "C:\\Users\\11421\\.conda\\envs\\py38\\lib\\site-packages\\torchvision\\models\\_utils.py:208: UserWarning: The parameter 'pretrained' is deprecated since 0.13 and will be removed in 0.15, please use 'weights' instead.\n",
      "  warnings.warn(\n",
      "C:\\Users\\11421\\.conda\\envs\\py38\\lib\\site-packages\\torchvision\\models\\_utils.py:223: UserWarning: Arguments other than a weight enum or `None` for 'weights' are deprecated since 0.13 and will be removed in 0.15. The current behavior is equivalent to passing `weights=None`.\n",
      "  warnings.warn(msg)\n"
     ]
    }
   ],
   "source": [
    "# Device configuration\n",
    "device = torch.device('cuda:0' if torch.cuda.is_available() else 'cpu')\n",
    "\n",
    "# Define the model\n",
    "model = models.resnet50(pretrained=False)  # If you want to use the pretrained model, set pretrained=True\n",
    "\n",
    "# Change the final layer to match the number of classes in the dataset\n",
    "num_ftrs = model.fc.in_features\n",
    "model.fc = nn.Linear(num_ftrs, num_classes)\n",
    "\n",
    "# Move the model to the GPU if available\n",
    "model = model.to(device)"
   ]
  },
  {
   "cell_type": "code",
   "execution_count": 15,
   "id": "fffc7825",
   "metadata": {
    "ExecuteTime": {
     "end_time": "2023-07-17T17:27:34.575420400Z",
     "start_time": "2023-07-17T17:27:34.560423100Z"
    }
   },
   "outputs": [],
   "source": [
    "# Loss and optimizer\n",
    "criterion = nn.CrossEntropyLoss()\n",
    "optimizer = torch.optim.Adamax(model.parameters(), lr=learning_rate)"
   ]
  },
  {
   "cell_type": "code",
   "execution_count": 16,
   "id": "7aefa17e",
   "metadata": {
    "ExecuteTime": {
     "end_time": "2023-07-17T21:41:22.097137Z",
     "start_time": "2023-07-17T17:27:34.575420400Z"
    }
   },
   "outputs": [
    {
     "name": "stdout",
     "output_type": "stream",
     "text": [
      "Epoch [1/10], Step [100/3470], Loss: 0.3730\n",
      "Epoch [1/10], Step [200/3470], Loss: 0.3083\n",
      "Epoch [1/10], Step [300/3470], Loss: 0.4439\n",
      "Epoch [1/10], Step [400/3470], Loss: 0.6410\n",
      "Epoch [1/10], Step [500/3470], Loss: 0.3960\n",
      "Epoch [1/10], Step [600/3470], Loss: 0.2396\n",
      "Epoch [1/10], Step [700/3470], Loss: 0.3523\n",
      "Epoch [1/10], Step [800/3470], Loss: 0.3942\n",
      "Epoch [1/10], Step [900/3470], Loss: 0.3250\n",
      "Epoch [1/10], Step [1000/3470], Loss: 0.3197\n",
      "Epoch [1/10], Step [1100/3470], Loss: 0.4272\n",
      "Epoch [1/10], Step [1200/3470], Loss: 0.1821\n",
      "Epoch [1/10], Step [1300/3470], Loss: 0.3541\n",
      "Epoch [1/10], Step [1400/3470], Loss: 0.2187\n",
      "Epoch [1/10], Step [1500/3470], Loss: 0.3795\n",
      "Epoch [1/10], Step [1600/3470], Loss: 0.3497\n",
      "Epoch [1/10], Step [1700/3470], Loss: 0.2625\n",
      "Epoch [1/10], Step [1800/3470], Loss: 0.4990\n",
      "Epoch [1/10], Step [1900/3470], Loss: 0.3405\n",
      "Epoch [1/10], Step [2000/3470], Loss: 0.3127\n",
      "Epoch [1/10], Step [2100/3470], Loss: 0.3303\n",
      "Epoch [1/10], Step [2200/3470], Loss: 0.5373\n",
      "Epoch [1/10], Step [2300/3470], Loss: 0.4481\n",
      "Epoch [1/10], Step [2400/3470], Loss: 0.3284\n",
      "Epoch [1/10], Step [2500/3470], Loss: 0.5234\n",
      "Epoch [1/10], Step [2600/3470], Loss: 0.2975\n",
      "Epoch [1/10], Step [2700/3470], Loss: 0.3871\n",
      "Epoch [1/10], Step [2800/3470], Loss: 0.3769\n",
      "Epoch [1/10], Step [2900/3470], Loss: 0.2712\n",
      "Epoch [1/10], Step [3000/3470], Loss: 0.3421\n",
      "Epoch [1/10], Step [3100/3470], Loss: 0.4664\n",
      "Epoch [1/10], Step [3200/3470], Loss: 0.3790\n",
      "Epoch [1/10], Step [3300/3470], Loss: 0.4268\n",
      "Epoch [1/10], Step [3400/3470], Loss: 0.3204\n",
      "Epoch [2/10], Step [100/3470], Loss: 0.3679\n",
      "Epoch [2/10], Step [200/3470], Loss: 0.1869\n",
      "Epoch [2/10], Step [300/3470], Loss: 0.4588\n",
      "Epoch [2/10], Step [400/3470], Loss: 0.2414\n",
      "Epoch [2/10], Step [500/3470], Loss: 0.2181\n",
      "Epoch [2/10], Step [600/3470], Loss: 0.2489\n",
      "Epoch [2/10], Step [700/3470], Loss: 0.3070\n",
      "Epoch [2/10], Step [800/3470], Loss: 0.3966\n",
      "Epoch [2/10], Step [900/3470], Loss: 0.3035\n",
      "Epoch [2/10], Step [1000/3470], Loss: 0.3483\n",
      "Epoch [2/10], Step [1100/3470], Loss: 0.2851\n",
      "Epoch [2/10], Step [1200/3470], Loss: 0.4201\n",
      "Epoch [2/10], Step [1300/3470], Loss: 0.2030\n",
      "Epoch [2/10], Step [1400/3470], Loss: 0.3942\n",
      "Epoch [2/10], Step [1500/3470], Loss: 0.3686\n",
      "Epoch [2/10], Step [1600/3470], Loss: 0.2189\n",
      "Epoch [2/10], Step [1700/3470], Loss: 0.3837\n",
      "Epoch [2/10], Step [1800/3470], Loss: 0.3346\n",
      "Epoch [2/10], Step [1900/3470], Loss: 0.1968\n",
      "Epoch [2/10], Step [2000/3470], Loss: 0.2163\n",
      "Epoch [2/10], Step [2100/3470], Loss: 0.2288\n",
      "Epoch [2/10], Step [2200/3470], Loss: 0.2659\n",
      "Epoch [2/10], Step [2300/3470], Loss: 0.2366\n",
      "Epoch [2/10], Step [2400/3470], Loss: 0.3106\n",
      "Epoch [2/10], Step [2500/3470], Loss: 0.2077\n",
      "Epoch [2/10], Step [2600/3470], Loss: 0.2099\n",
      "Epoch [2/10], Step [2700/3470], Loss: 0.2714\n",
      "Epoch [2/10], Step [2800/3470], Loss: 0.2157\n",
      "Epoch [2/10], Step [2900/3470], Loss: 0.3103\n",
      "Epoch [2/10], Step [3000/3470], Loss: 0.3509\n",
      "Epoch [2/10], Step [3100/3470], Loss: 0.3969\n",
      "Epoch [2/10], Step [3200/3470], Loss: 0.3758\n",
      "Epoch [2/10], Step [3300/3470], Loss: 0.1311\n",
      "Epoch [2/10], Step [3400/3470], Loss: 0.2435\n",
      "Epoch [3/10], Step [100/3470], Loss: 0.3487\n",
      "Epoch [3/10], Step [200/3470], Loss: 0.1720\n",
      "Epoch [3/10], Step [300/3470], Loss: 0.1708\n",
      "Epoch [3/10], Step [400/3470], Loss: 0.3851\n",
      "Epoch [3/10], Step [500/3470], Loss: 0.3629\n",
      "Epoch [3/10], Step [600/3470], Loss: 0.2896\n",
      "Epoch [3/10], Step [700/3470], Loss: 0.2863\n",
      "Epoch [3/10], Step [800/3470], Loss: 0.2742\n",
      "Epoch [3/10], Step [900/3470], Loss: 0.1970\n",
      "Epoch [3/10], Step [1000/3470], Loss: 0.3493\n",
      "Epoch [3/10], Step [1100/3470], Loss: 0.1991\n",
      "Epoch [3/10], Step [1200/3470], Loss: 0.1842\n",
      "Epoch [3/10], Step [1300/3470], Loss: 0.1969\n",
      "Epoch [3/10], Step [1400/3470], Loss: 0.2858\n",
      "Epoch [3/10], Step [1500/3470], Loss: 0.2013\n",
      "Epoch [3/10], Step [1600/3470], Loss: 0.2099\n",
      "Epoch [3/10], Step [1700/3470], Loss: 0.2306\n",
      "Epoch [3/10], Step [1800/3470], Loss: 0.3331\n",
      "Epoch [3/10], Step [1900/3470], Loss: 0.3042\n",
      "Epoch [3/10], Step [2000/3470], Loss: 0.2896\n",
      "Epoch [3/10], Step [2100/3470], Loss: 0.3511\n",
      "Epoch [3/10], Step [2200/3470], Loss: 0.3163\n",
      "Epoch [3/10], Step [2300/3470], Loss: 0.2830\n",
      "Epoch [3/10], Step [2400/3470], Loss: 0.1274\n",
      "Epoch [3/10], Step [2500/3470], Loss: 0.3253\n",
      "Epoch [3/10], Step [2600/3470], Loss: 0.3125\n",
      "Epoch [3/10], Step [2700/3470], Loss: 0.3754\n",
      "Epoch [3/10], Step [2800/3470], Loss: 0.2860\n",
      "Epoch [3/10], Step [2900/3470], Loss: 0.4183\n",
      "Epoch [3/10], Step [3000/3470], Loss: 0.2635\n",
      "Epoch [3/10], Step [3100/3470], Loss: 0.3079\n",
      "Epoch [3/10], Step [3200/3470], Loss: 0.3282\n",
      "Epoch [3/10], Step [3300/3470], Loss: 0.2103\n",
      "Epoch [3/10], Step [3400/3470], Loss: 0.3491\n",
      "Epoch [4/10], Step [100/3470], Loss: 0.2033\n",
      "Epoch [4/10], Step [200/3470], Loss: 0.4571\n",
      "Epoch [4/10], Step [300/3470], Loss: 0.3454\n",
      "Epoch [4/10], Step [400/3470], Loss: 0.4061\n",
      "Epoch [4/10], Step [500/3470], Loss: 0.2922\n",
      "Epoch [4/10], Step [600/3470], Loss: 0.3815\n",
      "Epoch [4/10], Step [700/3470], Loss: 0.4360\n",
      "Epoch [4/10], Step [800/3470], Loss: 0.2066\n",
      "Epoch [4/10], Step [900/3470], Loss: 0.1739\n",
      "Epoch [4/10], Step [1000/3470], Loss: 0.3081\n",
      "Epoch [4/10], Step [1100/3470], Loss: 0.2767\n",
      "Epoch [4/10], Step [1200/3470], Loss: 0.2556\n",
      "Epoch [4/10], Step [1300/3470], Loss: 0.4188\n",
      "Epoch [4/10], Step [1400/3470], Loss: 0.2938\n",
      "Epoch [4/10], Step [1500/3470], Loss: 0.3048\n",
      "Epoch [4/10], Step [1600/3470], Loss: 0.1776\n",
      "Epoch [4/10], Step [1700/3470], Loss: 0.2655\n",
      "Epoch [4/10], Step [1800/3470], Loss: 0.2406\n",
      "Epoch [4/10], Step [1900/3470], Loss: 0.1930\n",
      "Epoch [4/10], Step [2000/3470], Loss: 0.1609\n",
      "Epoch [4/10], Step [2100/3470], Loss: 0.3076\n",
      "Epoch [4/10], Step [2200/3470], Loss: 0.3570\n",
      "Epoch [4/10], Step [2300/3470], Loss: 0.2401\n",
      "Epoch [4/10], Step [2400/3470], Loss: 0.4231\n",
      "Epoch [4/10], Step [2500/3470], Loss: 0.1626\n",
      "Epoch [4/10], Step [2600/3470], Loss: 0.2153\n",
      "Epoch [4/10], Step [2700/3470], Loss: 0.3217\n",
      "Epoch [4/10], Step [2800/3470], Loss: 0.1527\n",
      "Epoch [4/10], Step [2900/3470], Loss: 0.3167\n",
      "Epoch [4/10], Step [3000/3470], Loss: 0.2514\n",
      "Epoch [4/10], Step [3100/3470], Loss: 0.2679\n",
      "Epoch [4/10], Step [3200/3470], Loss: 0.2789\n",
      "Epoch [4/10], Step [3300/3470], Loss: 0.2626\n",
      "Epoch [4/10], Step [3400/3470], Loss: 0.2495\n",
      "Epoch [5/10], Step [100/3470], Loss: 0.2364\n",
      "Epoch [5/10], Step [200/3470], Loss: 0.1566\n",
      "Epoch [5/10], Step [300/3470], Loss: 0.2007\n",
      "Epoch [5/10], Step [400/3470], Loss: 0.2633\n",
      "Epoch [5/10], Step [500/3470], Loss: 0.1936\n",
      "Epoch [5/10], Step [600/3470], Loss: 0.2114\n",
      "Epoch [5/10], Step [700/3470], Loss: 0.2279\n",
      "Epoch [5/10], Step [800/3470], Loss: 0.2100\n",
      "Epoch [5/10], Step [900/3470], Loss: 0.2603\n",
      "Epoch [5/10], Step [1000/3470], Loss: 0.2251\n",
      "Epoch [5/10], Step [1100/3470], Loss: 0.3287\n",
      "Epoch [5/10], Step [1200/3470], Loss: 0.3746\n",
      "Epoch [5/10], Step [1300/3470], Loss: 0.2555\n",
      "Epoch [5/10], Step [1400/3470], Loss: 0.1527\n",
      "Epoch [5/10], Step [1500/3470], Loss: 0.1810\n",
      "Epoch [5/10], Step [1600/3470], Loss: 0.3315\n",
      "Epoch [5/10], Step [1700/3470], Loss: 0.2325\n",
      "Epoch [5/10], Step [1800/3470], Loss: 0.2776\n",
      "Epoch [5/10], Step [1900/3470], Loss: 0.2052\n",
      "Epoch [5/10], Step [2000/3470], Loss: 0.2021\n",
      "Epoch [5/10], Step [2100/3470], Loss: 0.2415\n",
      "Epoch [5/10], Step [2200/3470], Loss: 0.2444\n",
      "Epoch [5/10], Step [2300/3470], Loss: 0.2732\n",
      "Epoch [5/10], Step [2400/3470], Loss: 0.2141\n",
      "Epoch [5/10], Step [2500/3470], Loss: 0.1914\n",
      "Epoch [5/10], Step [2600/3470], Loss: 0.3550\n",
      "Epoch [5/10], Step [2700/3470], Loss: 0.3113\n",
      "Epoch [5/10], Step [2800/3470], Loss: 0.2703\n",
      "Epoch [5/10], Step [2900/3470], Loss: 0.2692\n",
      "Epoch [5/10], Step [3000/3470], Loss: 0.2280\n",
      "Epoch [5/10], Step [3100/3470], Loss: 0.3614\n",
      "Epoch [5/10], Step [3200/3470], Loss: 0.3682\n",
      "Epoch [5/10], Step [3300/3470], Loss: 0.2112\n",
      "Epoch [5/10], Step [3400/3470], Loss: 0.3275\n",
      "Epoch [6/10], Step [100/3470], Loss: 0.1732\n",
      "Epoch [6/10], Step [200/3470], Loss: 0.2138\n",
      "Epoch [6/10], Step [300/3470], Loss: 0.1515\n",
      "Epoch [6/10], Step [400/3470], Loss: 0.1803\n",
      "Epoch [6/10], Step [500/3470], Loss: 0.2790\n",
      "Epoch [6/10], Step [600/3470], Loss: 0.2662\n",
      "Epoch [6/10], Step [700/3470], Loss: 0.2118\n",
      "Epoch [6/10], Step [800/3470], Loss: 0.2400\n",
      "Epoch [6/10], Step [900/3470], Loss: 0.2723\n",
      "Epoch [6/10], Step [1000/3470], Loss: 0.1808\n",
      "Epoch [6/10], Step [1100/3470], Loss: 0.3611\n",
      "Epoch [6/10], Step [1200/3470], Loss: 0.1817\n",
      "Epoch [6/10], Step [1300/3470], Loss: 0.2095\n",
      "Epoch [6/10], Step [1400/3470], Loss: 0.3399\n",
      "Epoch [6/10], Step [1500/3470], Loss: 0.1642\n",
      "Epoch [6/10], Step [1600/3470], Loss: 0.3106\n",
      "Epoch [6/10], Step [1700/3470], Loss: 0.2226\n",
      "Epoch [6/10], Step [1800/3470], Loss: 0.3358\n",
      "Epoch [6/10], Step [1900/3470], Loss: 0.2214\n",
      "Epoch [6/10], Step [2000/3470], Loss: 0.2494\n",
      "Epoch [6/10], Step [2100/3470], Loss: 0.3009\n",
      "Epoch [6/10], Step [2200/3470], Loss: 0.2523\n",
      "Epoch [6/10], Step [2300/3470], Loss: 0.4516\n",
      "Epoch [6/10], Step [2400/3470], Loss: 0.2584\n",
      "Epoch [6/10], Step [2500/3470], Loss: 0.4302\n",
      "Epoch [6/10], Step [2600/3470], Loss: 0.2756\n",
      "Epoch [6/10], Step [2700/3470], Loss: 0.2317\n",
      "Epoch [6/10], Step [2800/3470], Loss: 0.3059\n",
      "Epoch [6/10], Step [2900/3470], Loss: 0.2845\n",
      "Epoch [6/10], Step [3000/3470], Loss: 0.3148\n",
      "Epoch [6/10], Step [3100/3470], Loss: 0.2999\n",
      "Epoch [6/10], Step [3200/3470], Loss: 0.2188\n",
      "Epoch [6/10], Step [3300/3470], Loss: 0.2555\n",
      "Epoch [6/10], Step [3400/3470], Loss: 0.3302\n",
      "Epoch [7/10], Step [100/3470], Loss: 0.2520\n",
      "Epoch [7/10], Step [200/3470], Loss: 0.2105\n",
      "Epoch [7/10], Step [300/3470], Loss: 0.2080\n",
      "Epoch [7/10], Step [400/3470], Loss: 0.2332\n",
      "Epoch [7/10], Step [500/3470], Loss: 0.3820\n",
      "Epoch [7/10], Step [600/3470], Loss: 0.2027\n",
      "Epoch [7/10], Step [700/3470], Loss: 0.2025\n",
      "Epoch [7/10], Step [800/3470], Loss: 0.3031\n",
      "Epoch [7/10], Step [900/3470], Loss: 0.2038\n",
      "Epoch [7/10], Step [1000/3470], Loss: 0.2268\n",
      "Epoch [7/10], Step [1100/3470], Loss: 0.2767\n",
      "Epoch [7/10], Step [1200/3470], Loss: 0.2133\n",
      "Epoch [7/10], Step [1300/3470], Loss: 0.2537\n",
      "Epoch [7/10], Step [1400/3470], Loss: 0.2590\n",
      "Epoch [7/10], Step [1500/3470], Loss: 0.2036\n",
      "Epoch [7/10], Step [1600/3470], Loss: 0.3194\n",
      "Epoch [7/10], Step [1700/3470], Loss: 0.3622\n",
      "Epoch [7/10], Step [1800/3470], Loss: 0.3142\n",
      "Epoch [7/10], Step [1900/3470], Loss: 0.2158\n",
      "Epoch [7/10], Step [2000/3470], Loss: 0.2708\n",
      "Epoch [7/10], Step [2100/3470], Loss: 0.3019\n",
      "Epoch [7/10], Step [2200/3470], Loss: 0.2424\n",
      "Epoch [7/10], Step [2300/3470], Loss: 0.2056\n",
      "Epoch [7/10], Step [2400/3470], Loss: 0.3929\n",
      "Epoch [7/10], Step [2500/3470], Loss: 0.1520\n",
      "Epoch [7/10], Step [2600/3470], Loss: 0.1891\n",
      "Epoch [7/10], Step [2700/3470], Loss: 0.2607\n",
      "Epoch [7/10], Step [2800/3470], Loss: 0.1911\n",
      "Epoch [7/10], Step [2900/3470], Loss: 0.1108\n",
      "Epoch [7/10], Step [3000/3470], Loss: 0.4143\n",
      "Epoch [7/10], Step [3100/3470], Loss: 0.2912\n",
      "Epoch [7/10], Step [3200/3470], Loss: 0.2239\n",
      "Epoch [7/10], Step [3300/3470], Loss: 0.1870\n",
      "Epoch [7/10], Step [3400/3470], Loss: 0.2959\n",
      "Epoch [8/10], Step [100/3470], Loss: 0.1435\n",
      "Epoch [8/10], Step [200/3470], Loss: 0.2106\n",
      "Epoch [8/10], Step [300/3470], Loss: 0.4656\n",
      "Epoch [8/10], Step [400/3470], Loss: 0.1770\n",
      "Epoch [8/10], Step [500/3470], Loss: 0.4268\n",
      "Epoch [8/10], Step [600/3470], Loss: 0.3748\n",
      "Epoch [8/10], Step [700/3470], Loss: 0.1710\n",
      "Epoch [8/10], Step [800/3470], Loss: 0.4059\n",
      "Epoch [8/10], Step [900/3470], Loss: 0.1854\n",
      "Epoch [8/10], Step [1000/3470], Loss: 0.2527\n",
      "Epoch [8/10], Step [1100/3470], Loss: 0.3464\n",
      "Epoch [8/10], Step [1200/3470], Loss: 0.2180\n",
      "Epoch [8/10], Step [1300/3470], Loss: 0.2886\n",
      "Epoch [8/10], Step [1400/3470], Loss: 0.2291\n",
      "Epoch [8/10], Step [1500/3470], Loss: 0.1700\n",
      "Epoch [8/10], Step [1600/3470], Loss: 0.2378\n",
      "Epoch [8/10], Step [1700/3470], Loss: 0.1557\n",
      "Epoch [8/10], Step [1800/3470], Loss: 0.2040\n",
      "Epoch [8/10], Step [1900/3470], Loss: 0.2217\n",
      "Epoch [8/10], Step [2000/3470], Loss: 0.2589\n",
      "Epoch [8/10], Step [2100/3470], Loss: 0.2721\n",
      "Epoch [8/10], Step [2200/3470], Loss: 0.2280\n",
      "Epoch [8/10], Step [2300/3470], Loss: 0.2163\n",
      "Epoch [8/10], Step [2400/3470], Loss: 0.3267\n",
      "Epoch [8/10], Step [2500/3470], Loss: 0.2846\n",
      "Epoch [8/10], Step [2600/3470], Loss: 0.2342\n",
      "Epoch [8/10], Step [2700/3470], Loss: 0.2700\n",
      "Epoch [8/10], Step [2800/3470], Loss: 0.2956\n",
      "Epoch [8/10], Step [2900/3470], Loss: 0.2386\n",
      "Epoch [8/10], Step [3000/3470], Loss: 0.2834\n",
      "Epoch [8/10], Step [3100/3470], Loss: 0.2568\n",
      "Epoch [8/10], Step [3200/3470], Loss: 0.3192\n",
      "Epoch [8/10], Step [3300/3470], Loss: 0.1942\n",
      "Epoch [8/10], Step [3400/3470], Loss: 0.3137\n",
      "Epoch [9/10], Step [100/3470], Loss: 0.2137\n",
      "Epoch [9/10], Step [200/3470], Loss: 0.2247\n",
      "Epoch [9/10], Step [300/3470], Loss: 0.3045\n",
      "Epoch [9/10], Step [400/3470], Loss: 0.2056\n",
      "Epoch [9/10], Step [500/3470], Loss: 0.2032\n",
      "Epoch [9/10], Step [600/3470], Loss: 0.2452\n",
      "Epoch [9/10], Step [700/3470], Loss: 0.2731\n",
      "Epoch [9/10], Step [800/3470], Loss: 0.2020\n",
      "Epoch [9/10], Step [900/3470], Loss: 0.1908\n",
      "Epoch [9/10], Step [1000/3470], Loss: 0.1779\n",
      "Epoch [9/10], Step [1100/3470], Loss: 0.3719\n",
      "Epoch [9/10], Step [1200/3470], Loss: 0.1830\n",
      "Epoch [9/10], Step [1300/3470], Loss: 0.2838\n",
      "Epoch [9/10], Step [1400/3470], Loss: 0.2524\n",
      "Epoch [9/10], Step [1500/3470], Loss: 0.1626\n",
      "Epoch [9/10], Step [1600/3470], Loss: 0.1503\n",
      "Epoch [9/10], Step [1700/3470], Loss: 0.1873\n",
      "Epoch [9/10], Step [1800/3470], Loss: 0.1857\n",
      "Epoch [9/10], Step [1900/3470], Loss: 0.3738\n",
      "Epoch [9/10], Step [2000/3470], Loss: 0.2770\n",
      "Epoch [9/10], Step [2100/3470], Loss: 0.1800\n",
      "Epoch [9/10], Step [2200/3470], Loss: 0.2664\n",
      "Epoch [9/10], Step [2300/3470], Loss: 0.2162\n",
      "Epoch [9/10], Step [2400/3470], Loss: 0.3166\n",
      "Epoch [9/10], Step [2500/3470], Loss: 0.2367\n",
      "Epoch [9/10], Step [2600/3470], Loss: 0.2632\n",
      "Epoch [9/10], Step [2700/3470], Loss: 0.1354\n",
      "Epoch [9/10], Step [2800/3470], Loss: 0.2604\n",
      "Epoch [9/10], Step [2900/3470], Loss: 0.1092\n",
      "Epoch [9/10], Step [3000/3470], Loss: 0.1775\n",
      "Epoch [9/10], Step [3100/3470], Loss: 0.1847\n",
      "Epoch [9/10], Step [3200/3470], Loss: 0.1491\n",
      "Epoch [9/10], Step [3300/3470], Loss: 0.3313\n",
      "Epoch [9/10], Step [3400/3470], Loss: 0.3059\n",
      "Epoch [10/10], Step [100/3470], Loss: 0.2442\n",
      "Epoch [10/10], Step [200/3470], Loss: 0.1481\n",
      "Epoch [10/10], Step [300/3470], Loss: 0.2351\n",
      "Epoch [10/10], Step [400/3470], Loss: 0.2386\n",
      "Epoch [10/10], Step [500/3470], Loss: 0.3065\n",
      "Epoch [10/10], Step [600/3470], Loss: 0.1612\n",
      "Epoch [10/10], Step [700/3470], Loss: 0.3214\n",
      "Epoch [10/10], Step [800/3470], Loss: 0.1770\n",
      "Epoch [10/10], Step [900/3470], Loss: 0.2231\n",
      "Epoch [10/10], Step [1000/3470], Loss: 0.2113\n",
      "Epoch [10/10], Step [1100/3470], Loss: 0.1430\n",
      "Epoch [10/10], Step [1200/3470], Loss: 0.2887\n",
      "Epoch [10/10], Step [1300/3470], Loss: 0.2620\n",
      "Epoch [10/10], Step [1400/3470], Loss: 0.1366\n",
      "Epoch [10/10], Step [1500/3470], Loss: 0.4286\n",
      "Epoch [10/10], Step [1600/3470], Loss: 0.2271\n",
      "Epoch [10/10], Step [1700/3470], Loss: 0.2567\n",
      "Epoch [10/10], Step [1800/3470], Loss: 0.1999\n",
      "Epoch [10/10], Step [1900/3470], Loss: 0.3067\n",
      "Epoch [10/10], Step [2000/3470], Loss: 0.1168\n",
      "Epoch [10/10], Step [2100/3470], Loss: 0.2051\n",
      "Epoch [10/10], Step [2200/3470], Loss: 0.2373\n",
      "Epoch [10/10], Step [2300/3470], Loss: 0.2022\n",
      "Epoch [10/10], Step [2400/3470], Loss: 0.3650\n",
      "Epoch [10/10], Step [2500/3470], Loss: 0.1669\n",
      "Epoch [10/10], Step [2600/3470], Loss: 0.1868\n",
      "Epoch [10/10], Step [2700/3470], Loss: 0.2013\n",
      "Epoch [10/10], Step [2800/3470], Loss: 0.1814\n",
      "Epoch [10/10], Step [2900/3470], Loss: 0.1745\n",
      "Epoch [10/10], Step [3000/3470], Loss: 0.1677\n",
      "Epoch [10/10], Step [3100/3470], Loss: 0.2962\n",
      "Epoch [10/10], Step [3200/3470], Loss: 0.2381\n",
      "Epoch [10/10], Step [3300/3470], Loss: 0.1849\n",
      "Epoch [10/10], Step [3400/3470], Loss: 0.2466\n"
     ]
    }
   ],
   "source": [
    "# Train the model\n",
    "total_step = len(loader_train)\n",
    "for epoch in range(num_epochs):\n",
    "    for i, (images, labels) in enumerate(loader_train):\n",
    "        images = images.to(device)\n",
    "        labels = labels.to(device)\n",
    "        \n",
    "        # Forward pass\n",
    "        outputs = model(images)\n",
    "        loss = criterion(outputs, labels)\n",
    "        \n",
    "        # Backward and optimize\n",
    "        optimizer.zero_grad()\n",
    "        loss.backward()\n",
    "        optimizer.step()\n",
    "        \n",
    "        if (i+1) % 100 == 0:\n",
    "            print ('Epoch [{}/{}], Step [{}/{}], Loss: {:.4f}' \n",
    "                   .format(epoch+1, num_epochs, i+1, total_step, loss.item()))"
   ]
  },
  {
   "cell_type": "code",
   "execution_count": 17,
   "id": "d4e20937",
   "metadata": {
    "ExecuteTime": {
     "end_time": "2023-07-17T21:44:08.632187700Z",
     "start_time": "2023-07-17T21:41:22.106106900Z"
    }
   },
   "outputs": [
    {
     "name": "stdout",
     "output_type": "stream",
     "text": [
      "Test Accuracy of the model on the test images: 90.38104675254482 %\n"
     ]
    }
   ],
   "source": [
    "# Test the model\n",
    "model.eval()  # eval mode (batchnorm uses moving mean/variance instead of mini-batch mean/variance)\n",
    "confusion_matrix = torch.zeros(2, 2)\n",
    "with torch.no_grad():\n",
    "    correct = 0\n",
    "    total = 0\n",
    "    for images, labels in loader_valid:\n",
    "        images = images.to(device)\n",
    "        labels = labels.to(device)\n",
    "        outputs = model(images)\n",
    "        _, predicted = torch.max(outputs.data, 1)\n",
    "        total += labels.size(0)\n",
    "        correct += (predicted == labels).sum().item()\n",
    "        for t, p in zip(labels.view(-1), predicted.view(-1)):\n",
    "                confusion_matrix[t.long(), p.long()] += 1\n",
    "                 \n",
    "    print('Test Accuracy of the model on the test images: {} %'.format(100 * correct / total))\n"
   ]
  },
  {
   "cell_type": "code",
   "execution_count": 18,
   "id": "51a335be",
   "metadata": {
    "ExecuteTime": {
     "end_time": "2023-07-17T21:44:08.775707100Z",
     "start_time": "2023-07-17T21:44:08.633184400Z"
    }
   },
   "outputs": [],
   "source": [
    "# Save the model checkpoint\n",
    "torch.save(model.state_dict(), 'resnet_model.ckpt')"
   ]
  }
 ],
 "metadata": {
  "kernelspec": {
   "display_name": "Python 3 (ipykernel)",
   "language": "python",
   "name": "python3"
  },
  "language_info": {
   "codemirror_mode": {
    "name": "ipython",
    "version": 3
   },
   "file_extension": ".py",
   "mimetype": "text/x-python",
   "name": "python",
   "nbconvert_exporter": "python",
   "pygments_lexer": "ipython3",
   "version": "3.9.16"
  }
 },
 "nbformat": 4,
 "nbformat_minor": 5
}
