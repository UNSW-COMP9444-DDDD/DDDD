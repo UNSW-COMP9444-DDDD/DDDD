{
 "cells": [
  {
   "cell_type": "code",
   "execution_count": 1,
   "id": "8c2c41b4",
   "metadata": {},
   "outputs": [],
   "source": [
    "# Change to your dataset directory\n",
    "import os\n",
    "os.chdir('D:/学习/9444dataset/dataset_remade')"
   ]
  },
  {
   "cell_type": "code",
   "execution_count": 2,
   "id": "28cb5b71",
   "metadata": {},
   "outputs": [],
   "source": [
    "\n",
    "import torch\n",
    "import torchvision\n",
    "import torchvision.transforms as transforms\n",
    "import torchvision.models as models\n",
    "import torch.nn as nn\n",
    "from torch.utils.data import DataLoader, Dataset\n",
    "import cv2\n",
    "import pandas as pd\n",
    "from sklearn.model_selection import train_test_split\n",
    "from glob import glob\n",
    "import fnmatch"
   ]
  },
  {
   "cell_type": "code",
   "execution_count": 3,
   "id": "5a7aaa82",
   "metadata": {},
   "outputs": [],
   "source": [
    "# Collect paths to all images\n",
    "imagePatches = glob('**/*.png', recursive=True)"
   ]
  },
  {
   "cell_type": "code",
   "execution_count": 4,
   "id": "bea98fb5",
   "metadata": {},
   "outputs": [
    {
     "data": {
      "text/plain": [
       "10384"
      ]
     },
     "execution_count": 4,
     "metadata": {},
     "output_type": "execute_result"
    }
   ],
   "source": [
    "len(imagePatches)"
   ]
  },
  {
   "cell_type": "code",
   "execution_count": 5,
   "id": "29bbf120",
   "metadata": {},
   "outputs": [],
   "source": [
    "# Separate image paths based on class\n",
    "patternZero = '*class0.png'\n",
    "patternOne = '*class1.png'\n",
    "classZero = fnmatch.filter(imagePatches, patternZero)\n",
    "classOne = fnmatch.filter(imagePatches, patternOne)"
   ]
  },
  {
   "cell_type": "code",
   "execution_count": 6,
   "id": "d6e4feea",
   "metadata": {},
   "outputs": [
    {
     "name": "stdout",
     "output_type": "stream",
     "text": [
      "Progress: 5.01%\n",
      "Progress: 10.01%\n",
      "Progress: 15.00%\n",
      "Progress: 20.00%\n",
      "Progress: 25.00%\n",
      "Progress: 30.01%\n",
      "Progress: 35.01%\n",
      "Progress: 40.00%\n",
      "Progress: 45.00%\n",
      "Progress: 50.00%\n",
      "Progress: 55.01%\n",
      "Progress: 60.01%\n",
      "Progress: 65.00%\n",
      "Progress: 70.00%\n",
      "Progress: 75.00%\n",
      "Progress: 80.01%\n",
      "Progress: 85.01%\n",
      "Progress: 90.00%\n",
      "Progress: 95.00%\n"
     ]
    }
   ],
   "source": [
    "total_num = 10384\n",
    "count = 0\n",
    "y = []\n",
    "progress_increment = total_num * 0.05  # 5% of total\n",
    "next_progress = progress_increment\n",
    "\n",
    "for img in imagePatches:\n",
    "    if img in classZero:\n",
    "        y.append(0)\n",
    "    elif img in classOne:\n",
    "        y.append(1)\n",
    "\n",
    "    count += 1\n",
    "\n",
    "    if count >= next_progress:\n",
    "        print(f'Progress: {count/total_num*100:.2f}%')  # Prints the progress as a percentage\n",
    "        next_progress += progress_increment\n"
   ]
  },
  {
   "cell_type": "code",
   "execution_count": 7,
   "id": "358e4fb4",
   "metadata": {},
   "outputs": [],
   "source": [
    "# Create dataframe\n",
    "images_df = pd.DataFrame()\n",
    "images_df[\"images\"] = imagePatches\n",
    "images_df[\"labels\"] = y"
   ]
  },
  {
   "cell_type": "code",
   "execution_count": 8,
   "id": "977c8461",
   "metadata": {},
   "outputs": [],
   "source": [
    "# Split data into training and validation sets\n",
    "train, val = train_test_split(images_df, stratify=images_df.labels, test_size=0.2)"
   ]
  },
  {
   "cell_type": "code",
   "execution_count": 9,
   "id": "7063d14d",
   "metadata": {},
   "outputs": [],
   "source": [
    "# Dataset class\n",
    "class MyDataset(Dataset):\n",
    "    def __init__(self, df_data,transform=None):\n",
    "        super().__init__()\n",
    "        self.df = df_data.values\n",
    "        self.transform = transform\n",
    "\n",
    "    def __len__(self):\n",
    "        return len(self.df)\n",
    "    \n",
    "    def __getitem__(self, index):\n",
    "        img_path,label = self.df[index]\n",
    "        image = cv2.imread(img_path)\n",
    "        image = cv2.resize(image, (224,224))  # Resize images to 224x224\n",
    "        if self.transform is not None:\n",
    "            image = self.transform(image)\n",
    "        return image, label"
   ]
  },
  {
   "cell_type": "code",
   "execution_count": 10,
   "id": "9fb8e948",
   "metadata": {},
   "outputs": [],
   "source": [
    "# Model parameters\n",
    "num_epochs = 10\n",
    "num_classes = 2\n",
    "batch_size = 64\n",
    "learning_rate = 0.002"
   ]
  },
  {
   "cell_type": "code",
   "execution_count": 11,
   "id": "ed6162b9",
   "metadata": {},
   "outputs": [],
   "source": [
    "# Define transforms\n",
    "trans_train = transforms.Compose([transforms.ToPILImage(),\n",
    "                                  transforms.RandomHorizontalFlip(), \n",
    "                                  transforms.RandomVerticalFlip(),\n",
    "                                  transforms.RandomRotation(20), \n",
    "                                  transforms.ToTensor(),\n",
    "                                  transforms.Normalize(mean=[0.5, 0.5, 0.5],std=[0.5, 0.5, 0.5])])\n",
    "\n",
    "trans_valid = transforms.Compose([transforms.ToPILImage(),\n",
    "                                  transforms.ToTensor(),\n",
    "                                  transforms.Normalize(mean=[0.5, 0.5, 0.5],std=[0.5, 0.5, 0.5])])\n"
   ]
  },
  {
   "cell_type": "code",
   "execution_count": 12,
   "id": "a38b81b5",
   "metadata": {},
   "outputs": [],
   "source": [
    "# Create datasets and dataloaders\n",
    "dataset_train = MyDataset(df_data=train, transform=trans_train)\n",
    "dataset_valid = MyDataset(df_data=val,transform=trans_valid)\n",
    "\n",
    "loader_train = DataLoader(dataset = dataset_train, batch_size=batch_size, shuffle=True, num_workers=0)\n",
    "loader_valid = DataLoader(dataset = dataset_valid, batch_size=batch_size//2, shuffle=False, num_workers=0)"
   ]
  },
  {
   "cell_type": "code",
   "execution_count": 13,
   "id": "87b4106e",
   "metadata": {},
   "outputs": [],
   "source": [
    "# Device configuration\n",
    "device = torch.device('cuda:0' if torch.cuda.is_available() else 'cpu')\n",
    "\n",
    "# Define the model\n",
    "model = models.resnet50(pretrained=False)  # If you want to use the pretrained model, set pretrained=True\n",
    "\n",
    "# Change the final layer to match the number of classes in the dataset\n",
    "num_ftrs = model.fc.in_features\n",
    "model.fc = nn.Linear(num_ftrs, num_classes)\n",
    "\n",
    "# Move the model to the GPU if available\n",
    "model = model.to(device)"
   ]
  },
  {
   "cell_type": "code",
   "execution_count": 14,
   "id": "e27f7407",
   "metadata": {},
   "outputs": [],
   "source": [
    "# Loss and optimizer\n",
    "criterion = nn.CrossEntropyLoss()\n",
    "optimizer = torch.optim.Adamax(model.parameters(), lr=learning_rate)"
   ]
  },
  {
   "cell_type": "code",
   "execution_count": 15,
   "id": "8e65993e",
   "metadata": {
    "scrolled": true
   },
   "outputs": [
    {
     "name": "stdout",
     "output_type": "stream",
     "text": [
      "Epoch [1/10], Step [100/130], Loss: 0.3619\n",
      "Epoch [2/10], Step [100/130], Loss: 0.2594\n",
      "Epoch [3/10], Step [100/130], Loss: 0.2332\n",
      "Epoch [4/10], Step [100/130], Loss: 0.2043\n",
      "Epoch [5/10], Step [100/130], Loss: 0.1304\n",
      "Epoch [6/10], Step [100/130], Loss: 0.2571\n",
      "Epoch [7/10], Step [100/130], Loss: 0.3580\n",
      "Epoch [8/10], Step [100/130], Loss: 0.1608\n",
      "Epoch [9/10], Step [100/130], Loss: 0.2326\n",
      "Epoch [10/10], Step [100/130], Loss: 0.3961\n"
     ]
    }
   ],
   "source": [
    "# Train the model\n",
    "total_step = len(loader_train)\n",
    "for epoch in range(num_epochs):\n",
    "    for i, (images, labels) in enumerate(loader_train):\n",
    "        images = images.to(device)\n",
    "        labels = labels.to(device)\n",
    "        \n",
    "        # Forward pass\n",
    "        outputs = model(images)\n",
    "        loss = criterion(outputs, labels)\n",
    "        \n",
    "        # Backward and optimize\n",
    "        optimizer.zero_grad()\n",
    "        loss.backward()\n",
    "        optimizer.step()\n",
    "        \n",
    "        if (i+1) % 100 == 0:\n",
    "            print ('Epoch [{}/{}], Step [{}/{}], Loss: {:.4f}' \n",
    "                   .format(epoch+1, num_epochs, i+1, total_step, loss.item()))"
   ]
  },
  {
   "cell_type": "code",
   "execution_count": 16,
   "id": "dddeb142",
   "metadata": {},
   "outputs": [
    {
     "name": "stdout",
     "output_type": "stream",
     "text": [
      "Test Accuracy of the model on the test images: 91.76697159364468 %\n"
     ]
    }
   ],
   "source": [
    "# Test the model\n",
    "model.eval()  # eval mode (batchnorm uses moving mean/variance instead of mini-batch mean/variance)\n",
    "confusion_matrix = torch.zeros(2, 2)\n",
    "with torch.no_grad():\n",
    "    correct = 0\n",
    "    total = 0\n",
    "    for images, labels in loader_valid:\n",
    "        images = images.to(device)\n",
    "        labels = labels.to(device)\n",
    "        outputs = model(images)\n",
    "        _, predicted = torch.max(outputs.data, 1)\n",
    "        total += labels.size(0)\n",
    "        correct += (predicted == labels).sum().item()\n",
    "        for t, p in zip(labels.view(-1), predicted.view(-1)):\n",
    "                confusion_matrix[t.long(), p.long()] += 1\n",
    "                 \n",
    "    print('Test Accuracy of the model on the test images: {} %'.format(100 * correct / total))\n"
   ]
  },
  {
   "cell_type": "code",
   "execution_count": 17,
   "id": "343d1eb4",
   "metadata": {},
   "outputs": [],
   "source": [
    "# Save the model checkpoint\n",
    "torch.save(model.state_dict(), 'resnet_model_10000.ckpt')"
   ]
  }
 ],
 "metadata": {
  "kernelspec": {
   "display_name": "Python 3 (ipykernel)",
   "language": "python",
   "name": "python3"
  },
  "language_info": {
   "codemirror_mode": {
    "name": "ipython",
    "version": 3
   },
   "file_extension": ".py",
   "mimetype": "text/x-python",
   "name": "python",
   "nbconvert_exporter": "python",
   "pygments_lexer": "ipython3",
   "version": "3.9.16"
  }
 },
 "nbformat": 4,
 "nbformat_minor": 5
}
